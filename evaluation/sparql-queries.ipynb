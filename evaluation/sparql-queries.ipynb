{
 "cells": [
  {
   "cell_type": "code",
   "execution_count": 1,
   "id": "2137093c-2a32-48bf-8212-7c2d61b19d51",
   "metadata": {},
   "outputs": [],
   "source": [
    "import rdflib"
   ]
  },
  {
   "cell_type": "markdown",
   "id": "279bcc58",
   "metadata": {},
   "source": [
    "Load ontology and example"
   ]
  },
  {
   "cell_type": "code",
   "execution_count": 62,
   "id": "8b5a295c-5097-4272-a32e-50f15bbbc714",
   "metadata": {},
   "outputs": [
    {
     "name": "stdout",
     "output_type": "stream",
     "text": [
      "472\n"
     ]
    }
   ],
   "source": [
    "g = rdflib.Graph()\n",
    "g.parse(\"../ontology/yang-server.ttl\", format='turtle')\n",
    "g.parse(\"../examples/server-example.ttl\", format='turtle')\n",
    "print(len(g))"
   ]
  },
  {
   "cell_type": "markdown",
   "id": "88e0a7f7",
   "metadata": {},
   "source": [
    "Load prefixes"
   ]
  },
  {
   "cell_type": "code",
   "execution_count": 4,
   "id": "5b0f11f8",
   "metadata": {},
   "outputs": [],
   "source": [
    "prefixes = \"\"\"\n",
    "PREFIX ys: <https://w3id.org/yang/server#>\n",
    "PREFIX dcterms: <http://purl.org/dc/terms/>\n",
    "PREFIX observable: <https://ontology.unifiedcyberontology.org/uco/observable/>\n",
    "\"\"\""
   ]
  },
  {
   "cell_type": "markdown",
   "id": "363793b0",
   "metadata": {},
   "source": [
    "## server-1: A YANG server is accesible through an endpoint composed of URL or IP address and port number"
   ]
  },
  {
   "cell_type": "code",
   "execution_count": 7,
   "id": "8c93ec42-557a-41ab-88b5-72ff353c19e0",
   "metadata": {},
   "outputs": [
    {
     "name": "stdout",
     "output_type": "stream",
     "text": [
      "Server: https://netconf-rml-demo.org/netconf-server-1 IP Address: localhost Port: 830\n"
     ]
    }
   ],
   "source": [
    "q_res = g.query(prefixes + \"\"\"\n",
    "    SELECT ?server ?socketAddressValue\n",
    "    WHERE {\n",
    "        ?server rdf:type/rdfs:subClassOf* ys:YangServer ;\n",
    "            ys:socketAddress ?socketAddress .\n",
    "        ?socketAddress observable:addressValue ?socketAddressValue\n",
    "    }\n",
    "\"\"\")\n",
    "\n",
    "for row in q_res:\n",
    "    socketValue = row.socketAddressValue.split(\":\")\n",
    "    ipAddress = socketValue[0]\n",
    "    port = socketValue[1]\n",
    "    print(f\"Server: {row.server} IP Address: {ipAddress} Port: {port}\")"
   ]
  },
  {
   "cell_type": "markdown",
   "id": "c8dd4ee1",
   "metadata": {},
   "source": [
    "## server-2: Access to a YANG server requires username and password credentials"
   ]
  },
  {
   "cell_type": "code",
   "execution_count": 8,
   "id": "64c5b9ea",
   "metadata": {},
   "outputs": [
    {
     "name": "stdout",
     "output_type": "stream",
     "text": [
      "Server: https://netconf-rml-demo.org/netconf-server-1 Username: netconf Password: netconf\n"
     ]
    }
   ],
   "source": [
    "q_res = g.query(prefixes + \"\"\"\n",
    "    SELECT ?server ?username ?password\n",
    "    WHERE {\n",
    "        ?server rdf:type/rdfs:subClassOf* ys:YangServer ;\n",
    "            ys:serverAccount ?account .\n",
    "        ?account ys:username ?username ;\n",
    "            observable:hasFacet ?auth .\n",
    "        ?auth observable:password ?password\n",
    "    }\n",
    "\"\"\")\n",
    "\n",
    "for row in q_res:\n",
    "    print(f\"Server: {row.server} Username: {row.username} Password: {row.password}\")"
   ]
  },
  {
   "cell_type": "markdown",
   "id": "42b72eed",
   "metadata": {},
   "source": [
    "## server-3: Access to data of a YANG server can be filtered using XPath"
   ]
  },
  {
   "cell_type": "markdown",
   "id": "605dc8a6",
   "metadata": {},
   "source": [
    "## server-4: NETCONF server is a type of YANG server"
   ]
  },
  {
   "cell_type": "code",
   "execution_count": 54,
   "id": "775e5f75",
   "metadata": {},
   "outputs": [
    {
     "name": "stdout",
     "output_type": "stream",
     "text": [
      "True\n"
     ]
    }
   ],
   "source": [
    "q_res = g.query(prefixes + \"\"\"\n",
    "    ASK {\n",
    "        ?server rdf:type ys:NetconfServer\n",
    "    }\n",
    "\"\"\")\n",
    "\n",
    "print(f\"{q_res.askAnswer}\")"
   ]
  },
  {
   "cell_type": "markdown",
   "id": "12864105",
   "metadata": {},
   "source": [
    "## server-7: A NETCONF server implements NETCONF capabilities"
   ]
  },
  {
   "cell_type": "code",
   "execution_count": 63,
   "id": "ab2d2d1c",
   "metadata": {},
   "outputs": [
    {
     "name": "stdout",
     "output_type": "stream",
     "text": [
      "https://w3id.org/yang/server#XpathCapability\n",
      "https://w3id.org/yang/server#YangLibrary1.0Capability\n"
     ]
    }
   ],
   "source": [
    "q_res = g.query(prefixes + \"\"\"\n",
    "    SELECT ?server ?nc_capability\n",
    "    WHERE {\n",
    "        ?server a ys:NetconfServer ;\n",
    "            ys:capability ?nc_capability .\n",
    "        ?nc_capability a ys:NetconfCapability .\n",
    "    }\n",
    "\"\"\")\n",
    "\n",
    "for row in q_res:\n",
    "    print(f\"{row.nc_capability}\")"
   ]
  },
  {
   "cell_type": "markdown",
   "id": "419d8a20",
   "metadata": {},
   "source": [
    "## server-8: A NETCONF capability is uniquely identified by a URN"
   ]
  },
  {
   "cell_type": "code",
   "execution_count": 65,
   "id": "8a1aeead",
   "metadata": {},
   "outputs": [
    {
     "name": "stdout",
     "output_type": "stream",
     "text": [
      "https://w3id.org/yang/server#XpathCapability --> ID: urn:ietf:params:netconf:capability:xpath:1.0\n",
      "https://w3id.org/yang/server#YangLibrary1.0Capability --> ID: urn:ietf:params:netconf:capability:yang-library:1.0\n"
     ]
    }
   ],
   "source": [
    "q_res = g.query(prefixes + \"\"\"\n",
    "    SELECT ?nc_capability ?id\n",
    "    WHERE {\n",
    "        ?server a ys:NetconfServer ;\n",
    "            ys:capability ?nc_capability .\n",
    "        ?nc_capability a ys:NetconfCapability ;\n",
    "            ys:netconfCapabilityId ?id .\n",
    "    }\n",
    "\"\"\")\n",
    "\n",
    "for row in q_res:\n",
    "    print(f\"{row.nc_capability} --> ID: {row.id}\")"
   ]
  },
  {
   "cell_type": "markdown",
   "id": "68d1351b",
   "metadata": {},
   "source": [
    "## server-9: Host key verification can be enabled or disabled to access a NETCONF server"
   ]
  },
  {
   "cell_type": "code",
   "execution_count": 29,
   "id": "8880ee51",
   "metadata": {},
   "outputs": [
    {
     "name": "stdout",
     "output_type": "stream",
     "text": [
      "Server: https://netconf-rml-demo.org/netconf-server-1 Enabled: false\n"
     ]
    }
   ],
   "source": [
    "q_res = g.query(prefixes + \"\"\"\n",
    "    SELECT ?server ?host_key\n",
    "    WHERE {\n",
    "        ?server a ys:NetconfServer ;\n",
    "            ys:hostKeyVerification ?host_key\n",
    "    }\n",
    "\"\"\")\n",
    "\n",
    "for row in q_res:\n",
    "    print(f\"Server: {row.server} Enabled: {row.host_key}\")"
   ]
  },
  {
   "cell_type": "markdown",
   "id": "01b3e22a",
   "metadata": {},
   "source": [
    "## server-10: A YANG server stores YANG data in a datastore"
   ]
  },
  {
   "cell_type": "code",
   "execution_count": 34,
   "id": "6cc63f2c",
   "metadata": {},
   "outputs": [
    {
     "name": "stdout",
     "output_type": "stream",
     "text": [
      "Server: https://netconf-rml-demo.org/netconf-server-1 Datastore: https://netconf-rml-demo.org/netconf-server-1/datastores/operational\n",
      "Server: https://netconf-rml-demo.org/netconf-server-1 Datastore: https://netconf-rml-demo.org/netconf-server-1/datastores/running\n",
      "Server: https://netconf-rml-demo.org/netconf-server-1 Datastore: https://netconf-rml-demo.org/netconf-server-1/datastores/candidate\n",
      "Server: https://netconf-rml-demo.org/netconf-server-1 Datastore: https://netconf-rml-demo.org/netconf-server-1/datastores/startup\n"
     ]
    }
   ],
   "source": [
    "q_res = g.query(prefixes + \"\"\"\n",
    "    SELECT ?server ?datastore\n",
    "    WHERE {\n",
    "        ?datastore ys:server ?server;\n",
    "    }\n",
    "\"\"\")\n",
    "\n",
    "for row in q_res:\n",
    "    print(f\"Server: {row.server} Datastore: {row.datastore}\")"
   ]
  },
  {
   "cell_type": "markdown",
   "id": "823c2aaa",
   "metadata": {},
   "source": [
    "## server-11: A conventional configuration datastore is a type of datatore that holds configuration"
   ]
  },
  {
   "cell_type": "code",
   "execution_count": 69,
   "id": "66a1c532",
   "metadata": {},
   "outputs": [
    {
     "name": "stdout",
     "output_type": "stream",
     "text": [
      "Server: https://netconf-rml-demo.org/netconf-server-1 Datastore: https://netconf-rml-demo.org/netconf-server-1/datastores/candidate\n",
      "Server: https://netconf-rml-demo.org/netconf-server-1 Datastore: https://netconf-rml-demo.org/netconf-server-1/datastores/running\n",
      "Server: https://netconf-rml-demo.org/netconf-server-1 Datastore: https://netconf-rml-demo.org/netconf-server-1/datastores/startup\n"
     ]
    }
   ],
   "source": [
    "q_res = g.query(prefixes + \"\"\"\n",
    "    SELECT ?server ?datastore\n",
    "    WHERE {\n",
    "        ?datastore ys:server ?server ;\n",
    "            rdf:type/rdfs:subClassOf* ys:ConventionalDatastore .\n",
    "    }\n",
    "\"\"\")\n",
    "\n",
    "for row in q_res:\n",
    "    print(f\"Server: {row.server} Datastore: {row.datastore}\")"
   ]
  },
  {
   "cell_type": "markdown",
   "id": "7b3ca02b",
   "metadata": {},
   "source": [
    "## server-12: Running, startup, candidate, and intended are types of conventional configuration datastores"
   ]
  },
  {
   "cell_type": "code",
   "execution_count": 72,
   "id": "146a5fca",
   "metadata": {},
   "outputs": [
    {
     "name": "stdout",
     "output_type": "stream",
     "text": [
      "https://w3id.org/yang/server#CandidateDatastore\n",
      "https://w3id.org/yang/server#IntendedDatastore\n",
      "https://w3id.org/yang/server#RunningDatastore\n",
      "https://w3id.org/yang/server#StartupDatastore\n"
     ]
    }
   ],
   "source": [
    "q_res = g.query(prefixes + \"\"\"\n",
    "    SELECT ?datastore\n",
    "    WHERE {\n",
    "        ?datastore rdfs:subClassOf ys:ConventionalDatastore\n",
    "    }\n",
    "\"\"\")\n",
    "\n",
    "for row in q_res:\n",
    "    print(f\"{row.datastore}\")"
   ]
  },
  {
   "cell_type": "markdown",
   "id": "d6db619f",
   "metadata": {},
   "source": [
    "## server-13: In addition to convention configuration datastores, a YANG server may have dynamic configuration datastores holding configuration obtained dynamically"
   ]
  },
  {
   "cell_type": "code",
   "execution_count": 41,
   "id": "9c4514db",
   "metadata": {},
   "outputs": [
    {
     "name": "stdout",
     "output_type": "stream",
     "text": [
      "True\n"
     ]
    }
   ],
   "source": [
    "q_res = g.query(prefixes + \"\"\"\n",
    "    ASK {\n",
    "        ys:DynamicDatastore rdfs:subClassOf ys:Datastore\n",
    "    }\n",
    "\"\"\")\n",
    "\n",
    "print(f\"{q_res.askAnswer}\")"
   ]
  },
  {
   "cell_type": "markdown",
   "id": "b3f77ab4",
   "metadata": {},
   "source": [
    "## server-14: A YANG server stores operational state data in the operational state datastore"
   ]
  },
  {
   "cell_type": "code",
   "execution_count": 73,
   "id": "7d7b1cfc",
   "metadata": {},
   "outputs": [
    {
     "name": "stdout",
     "output_type": "stream",
     "text": [
      "Server: https://netconf-rml-demo.org/netconf-server-1 Datastore: https://netconf-rml-demo.org/netconf-server-1/datastores/operational\n"
     ]
    }
   ],
   "source": [
    "q_res = g.query(prefixes + \"\"\"\n",
    "    SELECT ?server ?datastore\n",
    "    WHERE {\n",
    "        ?datastore ys:server ?server ;\n",
    "            rdf:type ys:OperationalDatastore .\n",
    "    }\n",
    "\"\"\")\n",
    "\n",
    "for row in q_res:\n",
    "    print(f\"Server: {row.server} Datastore: {row.datastore}\")"
   ]
  },
  {
   "cell_type": "markdown",
   "id": "7b29d331",
   "metadata": {},
   "source": [
    "## server-15: A YANG datastore must be specified when accessing data of a YANG server"
   ]
  },
  {
   "cell_type": "code",
   "execution_count": 74,
   "id": "d5f0c59c",
   "metadata": {},
   "outputs": [],
   "source": [
    "q_res = g.query(prefixes + \"\"\"\n",
    "    SELECT ?server ?datastore\n",
    "    WHERE {\n",
    "        ?server rdf:type/rdfs:subClassOf* ys:YangServer ;\n",
    "            ys:accessDatastore ?datastore\n",
    "    }\n",
    "\"\"\")\n",
    "\n",
    "for row in q_res:\n",
    "    print(f\"{row.server} {row.datastore}\")"
   ]
  },
  {
   "cell_type": "markdown",
   "id": "8a0711f2",
   "metadata": {},
   "source": [
    "## server-16: A query to a YANG server must specify datastore and filter"
   ]
  },
  {
   "cell_type": "code",
   "execution_count": 22,
   "id": "cd006c6b",
   "metadata": {},
   "outputs": [
    {
     "name": "stdout",
     "output_type": "stream",
     "text": [
      "https://example.org/netconf-server-1 https://example.org/netconf-server-1/datastores/operational /yanglib:modules-state/yanglib:module\n",
      "https://example.org/netconf-server-1 https://example.org/netconf-server-1/datastores/running \n",
      "        <interfaces xmlns=\"urn:ietf:params:xml:ns:yang:ietf-interfaces\">\n",
      "          <interface>\n",
      "          </interface>\n",
      "        </interfaces>\n",
      "        \n"
     ]
    }
   ],
   "source": [
    "q_res = g.query(prefixes + \"\"\"\n",
    "    SELECT ?server ?datastore ?filterValue\n",
    "    WHERE {\n",
    "        ?query a ys:Query ;\n",
    "            ys:sourceServer ?server ;\n",
    "            ys:sourceDatastore ?datastore ;\n",
    "            ys:filter ?filter ;\n",
    "        .\n",
    "        ?subproperty rdfs:subPropertyOf ys:filterValue .\n",
    "        ?filter ?subproperty ?filterValue .\n",
    "    }\n",
    "\"\"\")\n",
    "\n",
    "for row in q_res:\n",
    "    print(f\"{row.server} {row.datastore} {row.filterValue}\")"
   ]
  },
  {
   "cell_type": "markdown",
   "id": "d4e03d15",
   "metadata": {},
   "source": [
    "## server-17: Xpath is a type of filter"
   ]
  },
  {
   "cell_type": "code",
   "execution_count": 23,
   "id": "ac0c9ec4",
   "metadata": {},
   "outputs": [
    {
     "name": "stdout",
     "output_type": "stream",
     "text": [
      "True\n"
     ]
    }
   ],
   "source": [
    "q_res = g.query(prefixes + \"\"\"\n",
    "    ASK {\n",
    "        ys:XPathFilter rdfs:subClassOf ys:Filter\n",
    "    }\n",
    "\"\"\")\n",
    "\n",
    "print(f\"{q_res.askAnswer}\")"
   ]
  },
  {
   "cell_type": "markdown",
   "id": "33d642bd",
   "metadata": {},
   "source": [
    "## server-18: XML subtree is a type of filter"
   ]
  },
  {
   "cell_type": "code",
   "execution_count": 24,
   "id": "648f7999",
   "metadata": {},
   "outputs": [
    {
     "name": "stdout",
     "output_type": "stream",
     "text": [
      "True\n"
     ]
    }
   ],
   "source": [
    "q_res = g.query(prefixes + \"\"\"\n",
    "    ASK {\n",
    "        ys:SubtreeFilter rdfs:subClassOf ys:Filter\n",
    "    }\n",
    "\"\"\")\n",
    "\n",
    "print(f\"{q_res.askAnswer}\")"
   ]
  }
 ],
 "metadata": {
  "kernelspec": {
   "display_name": ".venv",
   "language": "python",
   "name": "python3"
  },
  "language_info": {
   "codemirror_mode": {
    "name": "ipython",
    "version": 3
   },
   "file_extension": ".py",
   "mimetype": "text/x-python",
   "name": "python",
   "nbconvert_exporter": "python",
   "pygments_lexer": "ipython3",
   "version": "3.10.4"
  }
 },
 "nbformat": 4,
 "nbformat_minor": 5
}
