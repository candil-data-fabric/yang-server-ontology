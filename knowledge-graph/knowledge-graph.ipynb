{
 "cells": [
  {
   "cell_type": "code",
   "execution_count": 71,
   "id": "2137093c-2a32-48bf-8212-7c2d61b19d51",
   "metadata": {},
   "outputs": [],
   "source": [
    "import rdflib"
   ]
  },
  {
   "cell_type": "code",
   "execution_count": 72,
   "id": "8b5a295c-5097-4272-a32e-50f15bbbc714",
   "metadata": {},
   "outputs": [
    {
     "ename": "BadSyntax",
     "evalue": "at line 16 of <>:\nBad syntax (expected '.' or '}' or ']' at end of statement) at ^ in:\n\"...b'co-r1/operational> ;\\n    ys:xpathFilter \"/yang-library\"\\n    '^b'ys:capability <urn:ietf:params:netconf:capability:yang-libra'...\"",
     "output_type": "error",
     "traceback": [
      "Traceback \u001b[0;36m(most recent call last)\u001b[0m:\n",
      "\u001b[0m  File \u001b[1;32m~/github/candil-data-fabric/yang-source-ontology/.venv/lib/python3.10/site-packages/IPython/core/interactiveshell.py:3577\u001b[0m in \u001b[1;35mrun_code\u001b[0m\n    exec(code_obj, self.user_global_ns, self.user_ns)\u001b[0m\n",
      "\u001b[0m  Cell \u001b[1;32mIn[72], line 3\u001b[0m\n    g.parse(\"examples/cisco-example.ttl\", format='turtle')\u001b[0m\n",
      "\u001b[0m  File \u001b[1;32m~/github/candil-data-fabric/yang-source-ontology/.venv/lib/python3.10/site-packages/rdflib/graph.py:1501\u001b[0m in \u001b[1;35mparse\u001b[0m\n    raise se\u001b[0m\n",
      "\u001b[0m  File \u001b[1;32m~/github/candil-data-fabric/yang-source-ontology/.venv/lib/python3.10/site-packages/rdflib/graph.py:1492\u001b[0m in \u001b[1;35mparse\u001b[0m\n    parser.parse(source, self, **args)\u001b[0m\n",
      "\u001b[0m  File \u001b[1;32m~/github/candil-data-fabric/yang-source-ontology/.venv/lib/python3.10/site-packages/rdflib/plugins/parsers/notation3.py:2021\u001b[0m in \u001b[1;35mparse\u001b[0m\n    p.loadStream(stream)\u001b[0m\n",
      "\u001b[0m  File \u001b[1;32m~/github/candil-data-fabric/yang-source-ontology/.venv/lib/python3.10/site-packages/rdflib/plugins/parsers/notation3.py:479\u001b[0m in \u001b[1;35mloadStream\u001b[0m\n    return self.loadBuf(stream.read())  # Not ideal\u001b[0m\n",
      "\u001b[0m  File \u001b[1;32m~/github/candil-data-fabric/yang-source-ontology/.venv/lib/python3.10/site-packages/rdflib/plugins/parsers/notation3.py:485\u001b[0m in \u001b[1;35mloadBuf\u001b[0m\n    self.feed(buf)\u001b[0m\n",
      "\u001b[0m  File \u001b[1;32m~/github/candil-data-fabric/yang-source-ontology/.venv/lib/python3.10/site-packages/rdflib/plugins/parsers/notation3.py:511\u001b[0m in \u001b[1;35mfeed\u001b[0m\n    i = self.directiveOrStatement(s, j)\u001b[0m\n",
      "\u001b[0m  File \u001b[1;32m~/github/candil-data-fabric/yang-source-ontology/.venv/lib/python3.10/site-packages/rdflib/plugins/parsers/notation3.py:532\u001b[0m in \u001b[1;35mdirectiveOrStatement\u001b[0m\n    return self.checkDot(argstr, j)\u001b[0m\n",
      "\u001b[0m  File \u001b[1;32m~/github/candil-data-fabric/yang-source-ontology/.venv/lib/python3.10/site-packages/rdflib/plugins/parsers/notation3.py:1214\u001b[0m in \u001b[1;35mcheckDot\u001b[0m\n    self.BadSyntax(argstr, j, \"expected '.' or '}' or ']' at end of statement\")\u001b[0m\n",
      "\u001b[0;36m  File \u001b[0;32m~/github/candil-data-fabric/yang-source-ontology/.venv/lib/python3.10/site-packages/rdflib/plugins/parsers/notation3.py:1730\u001b[0;36m in \u001b[0;35mBadSyntax\u001b[0;36m\n\u001b[0;31m    raise BadSyntax(self._thisDoc, self.lines, argstr, i, msg)\u001b[0;36m\n",
      "\u001b[0;36m  File \u001b[0;32m<string>\u001b[0;36m\u001b[0m\n\u001b[0;31mBadSyntax\u001b[0m\n"
     ]
    }
   ],
   "source": [
    "g = rdflib.Graph()\n",
    "g.parse(\"../ontology/yang-server.owl\", format='turtle')\n",
    "g.parse(\"examples/cisco-example.ttl\", format='turtle')\n",
    "print(len(g))"
   ]
  },
  {
   "cell_type": "code",
   "execution_count": null,
   "id": "5b0f11f8",
   "metadata": {},
   "outputs": [],
   "source": [
    "prefixes = \"\"\"\n",
    "PREFIX ys: <https://w3id.org/yang/server#>\n",
    "PREFIX dcterms: <http://purl.org/dc/terms/>\n",
    "\"\"\""
   ]
  },
  {
   "cell_type": "markdown",
   "id": "363793b0",
   "metadata": {},
   "source": [
    "## server-1: A YANG server is accesible through an endpoint composed of URL or IP address and port number"
   ]
  },
  {
   "cell_type": "code",
   "execution_count": null,
   "id": "8c93ec42-557a-41ab-88b5-72ff353c19e0",
   "metadata": {},
   "outputs": [
    {
     "name": "stdout",
     "output_type": "stream",
     "text": [
      "https://example.org/network/devices/cisco-r1 192.168.1.10:830\n"
     ]
    }
   ],
   "source": [
    "q_res = g.query(prefixes + \"\"\"\n",
    "    SELECT ?server ?endpoint\n",
    "    WHERE {\n",
    "        ?server rdf:type/rdfs:subClassOf* ys:YangServer ;\n",
    "            ys:endpoint ?endpoint\n",
    "    }\n",
    "\"\"\")\n",
    "\n",
    "for row in q_res:\n",
    "    print(f\"{row.server} {row.endpoint}\")"
   ]
  },
  {
   "cell_type": "markdown",
   "id": "c8dd4ee1",
   "metadata": {},
   "source": [
    "## server-2: Access to a YANG server requires username and password credentials"
   ]
  },
  {
   "cell_type": "code",
   "execution_count": null,
   "id": "64c5b9ea",
   "metadata": {},
   "outputs": [
    {
     "name": "stdout",
     "output_type": "stream",
     "text": [
      "https://example.org/network/devices/cisco-r1 cisco admin\n"
     ]
    }
   ],
   "source": [
    "q_res = g.query(prefixes + \"\"\"\n",
    "    SELECT ?server ?username ?password\n",
    "    WHERE {\n",
    "        ?server rdf:type/rdfs:subClassOf* ys:YangServer ;\n",
    "            ys:username ?username ;\n",
    "            ys:password ?password .\n",
    "\n",
    "    }\n",
    "\"\"\")\n",
    "\n",
    "for row in q_res:\n",
    "    print(f\"{row.server} {row.username} {row.password}\")"
   ]
  },
  {
   "cell_type": "markdown",
   "id": "42b72eed",
   "metadata": {},
   "source": [
    "## server-3: Access to data of a YANG server can be filtered using XPath"
   ]
  },
  {
   "cell_type": "code",
   "execution_count": 74,
   "id": "e7cd4bc2",
   "metadata": {},
   "outputs": [
    {
     "name": "stdout",
     "output_type": "stream",
     "text": [
      "https://example.org/network/devices/cisco-r1 /yang-library\n"
     ]
    }
   ],
   "source": [
    "q_res = g.query(prefixes + \"\"\"\n",
    "    SELECT ?server ?filter\n",
    "    WHERE {\n",
    "        ?server rdf:type/rdfs:subClassOf* ys:YangServer ;\n",
    "            ys:xpathFilter ?filter\n",
    "    }\n",
    "\"\"\")\n",
    "\n",
    "for row in q_res:\n",
    "    print(f\"{row.server} {row.filter}\")"
   ]
  },
  {
   "cell_type": "markdown",
   "id": "605dc8a6",
   "metadata": {},
   "source": [
    "## server-4: NETCONF server is a type of YANG server"
   ]
  },
  {
   "cell_type": "code",
   "execution_count": null,
   "id": "775e5f75",
   "metadata": {},
   "outputs": [
    {
     "name": "stdout",
     "output_type": "stream",
     "text": [
      "https://w3id.org/yang/server#NetconfServer\n"
     ]
    }
   ],
   "source": [
    "q_res = g.query(prefixes + \"\"\"\n",
    "    SELECT ?server_type\n",
    "    WHERE {\n",
    "        ?server_type rdfs:subClassOf ys:YangServer;\n",
    "    }\n",
    "\"\"\")\n",
    "\n",
    "for row in q_res:\n",
    "    print(f\"{row.server_type}\")"
   ]
  },
  {
   "cell_type": "markdown",
   "id": "7b98116c",
   "metadata": {},
   "source": [
    "## server-5: Access to data of a NETCONF server can be filtered using an XML subtree"
   ]
  },
  {
   "cell_type": "code",
   "execution_count": 75,
   "id": "9a32a4f4",
   "metadata": {},
   "outputs": [],
   "source": [
    "q_res = g.query(prefixes + \"\"\"\n",
    "    SELECT ?server ?filter\n",
    "    WHERE {\n",
    "        ?server a ys:NetconfServer ;\n",
    "            ys:subtree ?filter\n",
    "    }\n",
    "\"\"\")\n",
    "\n",
    "for row in q_res:\n",
    "    print(f\"{row.server} {row.filter}\")"
   ]
  },
  {
   "cell_type": "markdown",
   "id": "84778f19",
   "metadata": {},
   "source": [
    "## server-6: A NETCONF server may require a device profile defined by a network vendor"
   ]
  },
  {
   "cell_type": "code",
   "execution_count": null,
   "id": "92032a94",
   "metadata": {},
   "outputs": [
    {
     "name": "stdout",
     "output_type": "stream",
     "text": [
      "https://example.org/network/devices/cisco-r1 https://example.org/network/networkProfiles/Cisco/IOS-XR https://example.org/network/vendors/Cisco\n"
     ]
    }
   ],
   "source": [
    "q_res = g.query(prefixes + \"\"\"\n",
    "    SELECT ?server ?nc_profile ?vendor\n",
    "    WHERE {\n",
    "        ?server a ys:NetconfServer ;\n",
    "            ys:profile ?nc_profile .\n",
    "        ?nc_profile ys:vendor ?vendor\n",
    "    }\n",
    "\"\"\")\n",
    "\n",
    "for row in q_res:\n",
    "    print(f\"{row.server} {row.nc_profile} {row.vendor}\")"
   ]
  },
  {
   "cell_type": "markdown",
   "id": "12864105",
   "metadata": {},
   "source": [
    "## server-7: A NETCONF server implements NETCONF capabilities"
   ]
  },
  {
   "cell_type": "code",
   "execution_count": null,
   "id": "ab2d2d1c",
   "metadata": {},
   "outputs": [
    {
     "name": "stdout",
     "output_type": "stream",
     "text": [
      "https://example.org/network/devices/cisco-r1 urn:ietf:params:netconf:capability:yang-library:1.1\n"
     ]
    }
   ],
   "source": [
    "q_res = g.query(prefixes + \"\"\"\n",
    "    SELECT ?server ?nc_capability\n",
    "    WHERE {\n",
    "        ?server a ys:NetconfServer ;\n",
    "            ys:capability ?nc_capability .\n",
    "    }\n",
    "\"\"\")\n",
    "\n",
    "for row in q_res:\n",
    "    print(f\"{row.server} {row.nc_capability}\")"
   ]
  },
  {
   "cell_type": "markdown",
   "id": "419d8a20",
   "metadata": {},
   "source": [
    "## server-8: A NETCONF capability is uniquely identified by a URN"
   ]
  },
  {
   "cell_type": "code",
   "execution_count": null,
   "id": "8a1aeead",
   "metadata": {},
   "outputs": [
    {
     "name": "stdout",
     "output_type": "stream",
     "text": [
      "urn:ietf:params:netconf:capability:yang-library:1.1\n"
     ]
    }
   ],
   "source": [
    "q_res = g.query(prefixes + \"\"\"\n",
    "    SELECT ?capability ?id\n",
    "    WHERE {\n",
    "        ?capability a ys:NetconfCapability ;\n",
    "            dcterms:identifier ?id\n",
    "    }\n",
    "\"\"\")\n",
    "\n",
    "for row in q_res:\n",
    "    print(f\"{row.id}\")"
   ]
  },
  {
   "cell_type": "markdown",
   "id": "68d1351b",
   "metadata": {},
   "source": [
    "## server-9: Host key verification can be enabled or disabled to access a NETCONF server"
   ]
  },
  {
   "cell_type": "code",
   "execution_count": null,
   "id": "8880ee51",
   "metadata": {},
   "outputs": [
    {
     "name": "stdout",
     "output_type": "stream",
     "text": [
      "https://example.org/network/devices/cisco-r1 false\n"
     ]
    }
   ],
   "source": [
    "q_res = g.query(prefixes + \"\"\"\n",
    "    SELECT ?nc_server ?host_key\n",
    "    WHERE {\n",
    "        ?nc_server a ys:NetconfServer ;\n",
    "            ys:hostKeyVerification ?host_key\n",
    "    }\n",
    "\"\"\")\n",
    "\n",
    "for row in q_res:\n",
    "    print(f\"{row.nc_server} {row.host_key}\")"
   ]
  },
  {
   "cell_type": "markdown",
   "id": "01b3e22a",
   "metadata": {},
   "source": [
    "## server-10: A YANG server stores YANG data in a datastore"
   ]
  },
  {
   "cell_type": "code",
   "execution_count": null,
   "id": "6cc63f2c",
   "metadata": {},
   "outputs": [
    {
     "name": "stdout",
     "output_type": "stream",
     "text": [
      "https://example.org/network/devices/cisco-r1 https://example.org/network/datastores/cisco-r1/operational\n",
      "https://example.org/network/devices/cisco-r1 https://example.org/network/datastores/cisco-r1/running\n"
     ]
    }
   ],
   "source": [
    "q_res = g.query(prefixes + \"\"\"\n",
    "    SELECT ?server ?datastore\n",
    "    WHERE {\n",
    "        ?server rdf:type/rdfs:subClassOf* ys:YangServer ;\n",
    "            ys:datastore ?datastore\n",
    "    }\n",
    "\"\"\")\n",
    "\n",
    "for row in q_res:\n",
    "    print(f\"{row.server} {row.datastore}\")"
   ]
  },
  {
   "cell_type": "markdown",
   "id": "823c2aaa",
   "metadata": {},
   "source": [
    "## server-11: A conventional configuration datastore is a type of datatore that holds configuration"
   ]
  },
  {
   "cell_type": "code",
   "execution_count": null,
   "id": "66a1c532",
   "metadata": {},
   "outputs": [
    {
     "name": "stdout",
     "output_type": "stream",
     "text": [
      "https://w3id.org/yang/server#ConventionalDatastore\n",
      "https://w3id.org/yang/server#DynamicDatastore\n",
      "https://w3id.org/yang/server#OperationalDatastore\n"
     ]
    }
   ],
   "source": [
    "q_res = g.query(prefixes + \"\"\"\n",
    "    SELECT ?datastore\n",
    "    WHERE {\n",
    "        ?datastore rdfs:subClassOf ys:Datastore\n",
    "    }\n",
    "\"\"\")\n",
    "\n",
    "for row in q_res:\n",
    "    print(f\"{row.datastore}\")"
   ]
  },
  {
   "cell_type": "markdown",
   "id": "7b3ca02b",
   "metadata": {},
   "source": [
    "## server-12: Running, startup, candidate, and intended are types of conventional configuration datastores"
   ]
  },
  {
   "cell_type": "code",
   "execution_count": null,
   "id": "146a5fca",
   "metadata": {},
   "outputs": [
    {
     "name": "stdout",
     "output_type": "stream",
     "text": [
      "https://w3id.org/yang/server#CandidateDatastore\n",
      "https://w3id.org/yang/server#IntendedDatastore\n",
      "https://w3id.org/yang/server#RunningDatastore\n",
      "https://w3id.org/yang/server#StartupDatastore\n"
     ]
    }
   ],
   "source": [
    "q_res = g.query(prefixes + \"\"\"\n",
    "    SELECT ?datastore\n",
    "    WHERE {\n",
    "        ?datastore rdfs:subClassOf ys:ConventionalDatastore\n",
    "    }\n",
    "\"\"\")\n",
    "\n",
    "for row in q_res:\n",
    "    print(f\"{row.datastore}\")"
   ]
  },
  {
   "cell_type": "markdown",
   "id": "d6db619f",
   "metadata": {},
   "source": [
    "## server-13: In addition to convention configuration datastores, a YANG server may have dynamic configuration datastores holding configuration obtained dynamically"
   ]
  },
  {
   "cell_type": "code",
   "execution_count": null,
   "id": "9c4514db",
   "metadata": {},
   "outputs": [
    {
     "name": "stdout",
     "output_type": "stream",
     "text": [
      "https://w3id.org/yang/server#ConventionalDatastore\n",
      "https://w3id.org/yang/server#DynamicDatastore\n",
      "https://w3id.org/yang/server#OperationalDatastore\n"
     ]
    }
   ],
   "source": [
    "q_res = g.query(prefixes + \"\"\"\n",
    "    SELECT ?datastore\n",
    "    WHERE {\n",
    "        ?datastore rdfs:subClassOf ys:Datastore\n",
    "    }\n",
    "\"\"\")\n",
    "\n",
    "for row in q_res:\n",
    "    print(f\"{row.datastore}\")"
   ]
  },
  {
   "cell_type": "markdown",
   "id": "b3f77ab4",
   "metadata": {},
   "source": [
    "## server-14: A YANG server stores operational state data in the operational state datastore"
   ]
  },
  {
   "cell_type": "code",
   "execution_count": null,
   "id": "7d7b1cfc",
   "metadata": {},
   "outputs": [
    {
     "name": "stdout",
     "output_type": "stream",
     "text": [
      "https://w3id.org/yang/server#ConventionalDatastore\n",
      "https://w3id.org/yang/server#DynamicDatastore\n",
      "https://w3id.org/yang/server#OperationalDatastore\n"
     ]
    }
   ],
   "source": [
    "q_res = g.query(prefixes + \"\"\"\n",
    "    SELECT ?datastore\n",
    "    WHERE {\n",
    "        ?datastore rdfs:subClassOf ys:Datastore\n",
    "    }\n",
    "\"\"\")\n",
    "\n",
    "for row in q_res:\n",
    "    print(f\"{row.datastore}\")"
   ]
  },
  {
   "cell_type": "markdown",
   "id": "7b29d331",
   "metadata": {},
   "source": [
    "## server-15: A YANG datastore must be specified when accessing data of a YANG server"
   ]
  },
  {
   "cell_type": "code",
   "execution_count": null,
   "id": "d5f0c59c",
   "metadata": {},
   "outputs": [
    {
     "name": "stdout",
     "output_type": "stream",
     "text": [
      "https://example.org/network/devices/cisco-r1 https://example.org/network/datastores/cisco-r1/operational\n"
     ]
    }
   ],
   "source": [
    "q_res = g.query(prefixes + \"\"\"\n",
    "    SELECT ?server ?datastore\n",
    "    WHERE {\n",
    "        ?server rdf:type/rdfs:subClassOf* ys:YangServer ;\n",
    "            ys:accessDatastore ?datastore\n",
    "    }\n",
    "\"\"\")\n",
    "\n",
    "for row in q_res:\n",
    "    print(f\"{row.server} {row.datastore}\")"
   ]
  }
 ],
 "metadata": {
  "kernelspec": {
   "display_name": "Python 3 (ipykernel)",
   "language": "python",
   "name": "python3"
  },
  "language_info": {
   "codemirror_mode": {
    "name": "ipython",
    "version": 3
   },
   "file_extension": ".py",
   "mimetype": "text/x-python",
   "name": "python",
   "nbconvert_exporter": "python",
   "pygments_lexer": "ipython3",
   "version": "3.10.4"
  }
 },
 "nbformat": 4,
 "nbformat_minor": 5
}
