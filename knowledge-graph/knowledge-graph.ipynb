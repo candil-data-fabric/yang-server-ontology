{
 "cells": [
  {
   "cell_type": "code",
   "execution_count": 1,
   "id": "2137093c-2a32-48bf-8212-7c2d61b19d51",
   "metadata": {},
   "outputs": [],
   "source": [
    "import rdflib"
   ]
  },
  {
   "cell_type": "code",
   "execution_count": 7,
   "id": "8b5a295c-5097-4272-a32e-50f15bbbc714",
   "metadata": {},
   "outputs": [
    {
     "name": "stdout",
     "output_type": "stream",
     "text": [
      "200\n"
     ]
    }
   ],
   "source": [
    "g = rdflib.Graph()\n",
    "g.parse(\"../../ontology/yang-catalog.owl\", format='turtle')\n",
    "g.parse(\"examples/rdf-data.ttl\", format='turtle')\n",
    "print(len(g))"
   ]
  },
  {
   "cell_type": "markdown",
   "id": "1b634e67-acc4-4ce4-bf61-3586d5cae849",
   "metadata": {},
   "source": [
    "### 1. Which modules and submodules are implemented by module set X?"
   ]
  },
  {
   "cell_type": "code",
   "execution_count": 8,
   "id": "8c93ec42-557a-41ab-88b5-72ff353c19e0",
   "metadata": {},
   "outputs": [
    {
     "name": "stdout",
     "output_type": "stream",
     "text": [
      "R105_01\n",
      "R204_02\n"
     ]
    }
   ],
   "source": [
    "q_res = g.query(\"\"\"\n",
    "    PREFIX a4build: <https://w3id.org/aerOS/building#>\n",
    "    PREFIX bot: <https://w3id.org/bot#>\n",
    "    PREFIX dcterms: <http://purl.org/dc/terms/>\n",
    "\n",
    "    SELECT ?desk_id\n",
    "    WHERE {\n",
    "        ?building a bot:Building ;\n",
    "            dcterms:identifier ?building_id ;\n",
    "            bot:hasSpace ?space .\n",
    "        ?space bot:containsElement ?desk .\n",
    "        ?desk a a4build:Desk ;\n",
    "            a4build:isAvailable ?desk_aval ;\n",
    "            dcterms:identifier ?desk_id .\n",
    "        FILTER(?building_id = \"COSMOTE LABS\" && ?desk_aval = true )\n",
    "    }\n",
    "\"\"\")\n",
    "\n",
    "for row in q_res:\n",
    "    print(f\"{row.desk_id}\")"
   ]
  }
 ],
 "metadata": {
  "kernelspec": {
   "display_name": "Python 3 (ipykernel)",
   "language": "python",
   "name": "python3"
  },
  "language_info": {
   "codemirror_mode": {
    "name": "ipython",
    "version": 3
   },
   "file_extension": ".py",
   "mimetype": "text/x-python",
   "name": "python",
   "nbconvert_exporter": "python",
   "pygments_lexer": "ipython3",
   "version": "3.10.4"
  }
 },
 "nbformat": 4,
 "nbformat_minor": 5
}
